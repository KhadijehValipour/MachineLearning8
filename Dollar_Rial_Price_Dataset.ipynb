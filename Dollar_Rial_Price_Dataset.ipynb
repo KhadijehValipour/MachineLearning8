{
 "cells": [
  {
   "cell_type": "markdown",
   "metadata": {},
   "source": [
    "# Dollar Rial Price 💰"
   ]
  },
  {
   "cell_type": "code",
   "execution_count": 371,
   "metadata": {},
   "outputs": [],
   "source": [
    "import re\n",
    "import numpy as np\n",
    "import pandas as pd\n",
    "import seaborn as sns\n",
    "import datetime as dt\n",
    "import matplotlib.pyplot as plt\n",
    "import matplotlib.dates as mdates\n",
    "from sklearn.model_selection import train_test_split\n",
    "from sklearn.metrics import mean_absolute_error\n",
    "from lls import LinearLeastSquare\n"
   ]
  },
  {
   "cell_type": "code",
   "execution_count": 372,
   "metadata": {},
   "outputs": [
    {
     "data": {
      "text/html": [
       "<div>\n",
       "<style scoped>\n",
       "    .dataframe tbody tr th:only-of-type {\n",
       "        vertical-align: middle;\n",
       "    }\n",
       "\n",
       "    .dataframe tbody tr th {\n",
       "        vertical-align: top;\n",
       "    }\n",
       "\n",
       "    .dataframe thead th {\n",
       "        text-align: right;\n",
       "    }\n",
       "</style>\n",
       "<table border=\"1\" class=\"dataframe\">\n",
       "  <thead>\n",
       "    <tr style=\"text-align: right;\">\n",
       "      <th></th>\n",
       "      <th>Unnamed: 0</th>\n",
       "      <th>Date</th>\n",
       "      <th>Persian_Date</th>\n",
       "      <th>Open</th>\n",
       "      <th>Low</th>\n",
       "      <th>High</th>\n",
       "      <th>Close</th>\n",
       "    </tr>\n",
       "  </thead>\n",
       "  <tbody>\n",
       "    <tr>\n",
       "      <th>0</th>\n",
       "      <td>0</td>\n",
       "      <td>11/27/2011</td>\n",
       "      <td>1390/09/06</td>\n",
       "      <td>13,700</td>\n",
       "      <td>13,700</td>\n",
       "      <td>13,700</td>\n",
       "      <td>13,700</td>\n",
       "    </tr>\n",
       "    <tr>\n",
       "      <th>1</th>\n",
       "      <td>1</td>\n",
       "      <td>11/28/2011</td>\n",
       "      <td>1390/09/07</td>\n",
       "      <td>13,440</td>\n",
       "      <td>13,440</td>\n",
       "      <td>13,440</td>\n",
       "      <td>13,440</td>\n",
       "    </tr>\n",
       "    <tr>\n",
       "      <th>2</th>\n",
       "      <td>2</td>\n",
       "      <td>11/29/2011</td>\n",
       "      <td>1390/09/08</td>\n",
       "      <td>13,350</td>\n",
       "      <td>13,350</td>\n",
       "      <td>13,350</td>\n",
       "      <td>13,350</td>\n",
       "    </tr>\n",
       "    <tr>\n",
       "      <th>3</th>\n",
       "      <td>3</td>\n",
       "      <td>11/30/2011</td>\n",
       "      <td>1390/09/09</td>\n",
       "      <td>13,400</td>\n",
       "      <td>13,400</td>\n",
       "      <td>13,400</td>\n",
       "      <td>13,400</td>\n",
       "    </tr>\n",
       "    <tr>\n",
       "      <th>4</th>\n",
       "      <td>4</td>\n",
       "      <td>12/1/2011</td>\n",
       "      <td>1390/09/10</td>\n",
       "      <td>13,500</td>\n",
       "      <td>13,500</td>\n",
       "      <td>13,500</td>\n",
       "      <td>13,500</td>\n",
       "    </tr>\n",
       "    <tr>\n",
       "      <th>...</th>\n",
       "      <td>...</td>\n",
       "      <td>...</td>\n",
       "      <td>...</td>\n",
       "      <td>...</td>\n",
       "      <td>...</td>\n",
       "      <td>...</td>\n",
       "      <td>...</td>\n",
       "    </tr>\n",
       "    <tr>\n",
       "      <th>3305</th>\n",
       "      <td>3305</td>\n",
       "      <td>7/1/2023</td>\n",
       "      <td>1402/04/10</td>\n",
       "      <td>492,660</td>\n",
       "      <td>492,600</td>\n",
       "      <td>498,400</td>\n",
       "      <td>498,220</td>\n",
       "    </tr>\n",
       "    <tr>\n",
       "      <th>3306</th>\n",
       "      <td>3306</td>\n",
       "      <td>7/2/2023</td>\n",
       "      <td>1402/04/11</td>\n",
       "      <td>500,810</td>\n",
       "      <td>498,600</td>\n",
       "      <td>500,900</td>\n",
       "      <td>499,340</td>\n",
       "    </tr>\n",
       "    <tr>\n",
       "      <th>3307</th>\n",
       "      <td>3307</td>\n",
       "      <td>7/3/2023</td>\n",
       "      <td>1402/04/12</td>\n",
       "      <td>503,210</td>\n",
       "      <td>501,400</td>\n",
       "      <td>503,400</td>\n",
       "      <td>502,000</td>\n",
       "    </tr>\n",
       "    <tr>\n",
       "      <th>3308</th>\n",
       "      <td>3308</td>\n",
       "      <td>7/4/2023</td>\n",
       "      <td>1402/04/13</td>\n",
       "      <td>502,140</td>\n",
       "      <td>498,300</td>\n",
       "      <td>502,200</td>\n",
       "      <td>500,750</td>\n",
       "    </tr>\n",
       "    <tr>\n",
       "      <th>3309</th>\n",
       "      <td>3309</td>\n",
       "      <td>7/5/2023</td>\n",
       "      <td>1402/04/14</td>\n",
       "      <td>499,030</td>\n",
       "      <td>498,400</td>\n",
       "      <td>501,400</td>\n",
       "      <td>500,950</td>\n",
       "    </tr>\n",
       "  </tbody>\n",
       "</table>\n",
       "<p>3310 rows × 7 columns</p>\n",
       "</div>"
      ],
      "text/plain": [
       "      Unnamed: 0        Date Persian_Date     Open      Low     High    Close\n",
       "0              0  11/27/2011   1390/09/06   13,700   13,700   13,700   13,700\n",
       "1              1  11/28/2011   1390/09/07   13,440   13,440   13,440   13,440\n",
       "2              2  11/29/2011   1390/09/08   13,350   13,350   13,350   13,350\n",
       "3              3  11/30/2011   1390/09/09   13,400   13,400   13,400   13,400\n",
       "4              4   12/1/2011   1390/09/10   13,500   13,500   13,500   13,500\n",
       "...          ...         ...          ...      ...      ...      ...      ...\n",
       "3305        3305    7/1/2023   1402/04/10  492,660  492,600  498,400  498,220\n",
       "3306        3306    7/2/2023   1402/04/11  500,810  498,600  500,900  499,340\n",
       "3307        3307    7/3/2023   1402/04/12  503,210  501,400  503,400  502,000\n",
       "3308        3308    7/4/2023   1402/04/13  502,140  498,300  502,200  500,750\n",
       "3309        3309    7/5/2023   1402/04/14  499,030  498,400  501,400  500,950\n",
       "\n",
       "[3310 rows x 7 columns]"
      ]
     },
     "execution_count": 372,
     "metadata": {},
     "output_type": "execute_result"
    }
   ],
   "source": [
    "data = pd.read_csv(\"Dollar_Rial_Price_Dataset.csv\")\n",
    "data"
   ]
  },
  {
   "cell_type": "code",
   "execution_count": 373,
   "metadata": {},
   "outputs": [
    {
     "data": {
      "text/plain": [
       "Unnamed: 0       int64\n",
       "Date            object\n",
       "Persian_Date    object\n",
       "Open            object\n",
       "Low             object\n",
       "High            object\n",
       "Close           object\n",
       "dtype: object"
      ]
     },
     "execution_count": 373,
     "metadata": {},
     "output_type": "execute_result"
    }
   ],
   "source": [
    "data.dtypes"
   ]
  },
  {
   "cell_type": "code",
   "execution_count": 374,
   "metadata": {},
   "outputs": [],
   "source": [
    "# data['Date_Number'] = data['Date'].map(lambda date: 10000*date.year + 100*date.month + date.day)\n",
    "# OR "
   ]
  },
  {
   "cell_type": "code",
   "execution_count": 375,
   "metadata": {},
   "outputs": [],
   "source": [
    "data['YearMonth'] = pd.to_numeric(pd.to_datetime(data['Date']).dt.strftime(\"%Y%m%d\"))"
   ]
  },
  {
   "cell_type": "code",
   "execution_count": 376,
   "metadata": {},
   "outputs": [],
   "source": [
    "data.drop(['Persian_Date'], axis=1, inplace=True)\n",
    "data.drop(['Unnamed: 0'],axis=1 , inplace=True)"
   ]
  },
  {
   "cell_type": "code",
   "execution_count": 377,
   "metadata": {},
   "outputs": [
    {
     "data": {
      "text/html": [
       "<div>\n",
       "<style scoped>\n",
       "    .dataframe tbody tr th:only-of-type {\n",
       "        vertical-align: middle;\n",
       "    }\n",
       "\n",
       "    .dataframe tbody tr th {\n",
       "        vertical-align: top;\n",
       "    }\n",
       "\n",
       "    .dataframe thead th {\n",
       "        text-align: right;\n",
       "    }\n",
       "</style>\n",
       "<table border=\"1\" class=\"dataframe\">\n",
       "  <thead>\n",
       "    <tr style=\"text-align: right;\">\n",
       "      <th></th>\n",
       "      <th>Date</th>\n",
       "      <th>Open</th>\n",
       "      <th>Low</th>\n",
       "      <th>High</th>\n",
       "      <th>Close</th>\n",
       "      <th>YearMonth</th>\n",
       "    </tr>\n",
       "  </thead>\n",
       "  <tbody>\n",
       "    <tr>\n",
       "      <th>0</th>\n",
       "      <td>2011-11-27</td>\n",
       "      <td>13700.0</td>\n",
       "      <td>13700.0</td>\n",
       "      <td>13700.0</td>\n",
       "      <td>13700.0</td>\n",
       "      <td>20111127</td>\n",
       "    </tr>\n",
       "    <tr>\n",
       "      <th>1</th>\n",
       "      <td>2011-11-28</td>\n",
       "      <td>13440.0</td>\n",
       "      <td>13440.0</td>\n",
       "      <td>13440.0</td>\n",
       "      <td>13440.0</td>\n",
       "      <td>20111128</td>\n",
       "    </tr>\n",
       "    <tr>\n",
       "      <th>2</th>\n",
       "      <td>2011-11-29</td>\n",
       "      <td>13350.0</td>\n",
       "      <td>13350.0</td>\n",
       "      <td>13350.0</td>\n",
       "      <td>13350.0</td>\n",
       "      <td>20111129</td>\n",
       "    </tr>\n",
       "    <tr>\n",
       "      <th>3</th>\n",
       "      <td>2011-11-30</td>\n",
       "      <td>13400.0</td>\n",
       "      <td>13400.0</td>\n",
       "      <td>13400.0</td>\n",
       "      <td>13400.0</td>\n",
       "      <td>20111130</td>\n",
       "    </tr>\n",
       "    <tr>\n",
       "      <th>4</th>\n",
       "      <td>2011-12-01</td>\n",
       "      <td>13500.0</td>\n",
       "      <td>13500.0</td>\n",
       "      <td>13500.0</td>\n",
       "      <td>13500.0</td>\n",
       "      <td>20111201</td>\n",
       "    </tr>\n",
       "    <tr>\n",
       "      <th>...</th>\n",
       "      <td>...</td>\n",
       "      <td>...</td>\n",
       "      <td>...</td>\n",
       "      <td>...</td>\n",
       "      <td>...</td>\n",
       "      <td>...</td>\n",
       "    </tr>\n",
       "    <tr>\n",
       "      <th>3305</th>\n",
       "      <td>2023-07-01</td>\n",
       "      <td>492660.0</td>\n",
       "      <td>492600.0</td>\n",
       "      <td>498400.0</td>\n",
       "      <td>498220.0</td>\n",
       "      <td>20230701</td>\n",
       "    </tr>\n",
       "    <tr>\n",
       "      <th>3306</th>\n",
       "      <td>2023-07-02</td>\n",
       "      <td>500810.0</td>\n",
       "      <td>498600.0</td>\n",
       "      <td>500900.0</td>\n",
       "      <td>499340.0</td>\n",
       "      <td>20230702</td>\n",
       "    </tr>\n",
       "    <tr>\n",
       "      <th>3307</th>\n",
       "      <td>2023-07-03</td>\n",
       "      <td>503210.0</td>\n",
       "      <td>501400.0</td>\n",
       "      <td>503400.0</td>\n",
       "      <td>502000.0</td>\n",
       "      <td>20230703</td>\n",
       "    </tr>\n",
       "    <tr>\n",
       "      <th>3308</th>\n",
       "      <td>2023-07-04</td>\n",
       "      <td>502140.0</td>\n",
       "      <td>498300.0</td>\n",
       "      <td>502200.0</td>\n",
       "      <td>500750.0</td>\n",
       "      <td>20230704</td>\n",
       "    </tr>\n",
       "    <tr>\n",
       "      <th>3309</th>\n",
       "      <td>2023-07-05</td>\n",
       "      <td>499030.0</td>\n",
       "      <td>498400.0</td>\n",
       "      <td>501400.0</td>\n",
       "      <td>500950.0</td>\n",
       "      <td>20230705</td>\n",
       "    </tr>\n",
       "  </tbody>\n",
       "</table>\n",
       "<p>3310 rows × 6 columns</p>\n",
       "</div>"
      ],
      "text/plain": [
       "           Date      Open       Low      High     Close  YearMonth\n",
       "0    2011-11-27   13700.0   13700.0   13700.0   13700.0   20111127\n",
       "1    2011-11-28   13440.0   13440.0   13440.0   13440.0   20111128\n",
       "2    2011-11-29   13350.0   13350.0   13350.0   13350.0   20111129\n",
       "3    2011-11-30   13400.0   13400.0   13400.0   13400.0   20111130\n",
       "4    2011-12-01   13500.0   13500.0   13500.0   13500.0   20111201\n",
       "...         ...       ...       ...       ...       ...        ...\n",
       "3305 2023-07-01  492660.0  492600.0  498400.0  498220.0   20230701\n",
       "3306 2023-07-02  500810.0  498600.0  500900.0  499340.0   20230702\n",
       "3307 2023-07-03  503210.0  501400.0  503400.0  502000.0   20230703\n",
       "3308 2023-07-04  502140.0  498300.0  502200.0  500750.0   20230704\n",
       "3309 2023-07-05  499030.0  498400.0  501400.0  500950.0   20230705\n",
       "\n",
       "[3310 rows x 6 columns]"
      ]
     },
     "execution_count": 377,
     "metadata": {},
     "output_type": "execute_result"
    }
   ],
   "source": [
    "data['Date'] = pd.to_datetime(data['Date'])\n",
    "\n",
    "for i in ['Open','Low','High','Close'] :\n",
    "    data[i] = data[i].apply(lambda x: re.sub(',','', x)).astype(float)\n",
    "\n",
    "data\n"
   ]
  },
  {
   "cell_type": "code",
   "execution_count": 378,
   "metadata": {},
   "outputs": [
    {
     "name": "stdout",
     "output_type": "stream",
     "text": [
      "<class 'pandas.core.frame.DataFrame'>\n",
      "RangeIndex: 3310 entries, 0 to 3309\n",
      "Data columns (total 6 columns):\n",
      " #   Column     Non-Null Count  Dtype         \n",
      "---  ------     --------------  -----         \n",
      " 0   Date       3310 non-null   datetime64[ns]\n",
      " 1   Open       3310 non-null   float64       \n",
      " 2   Low        3310 non-null   float64       \n",
      " 3   High       3310 non-null   float64       \n",
      " 4   Close      3310 non-null   float64       \n",
      " 5   YearMonth  3310 non-null   int64         \n",
      "dtypes: datetime64[ns](1), float64(4), int64(1)\n",
      "memory usage: 155.3 KB\n"
     ]
    }
   ],
   "source": [
    "data.info()"
   ]
  },
  {
   "cell_type": "markdown",
   "metadata": {},
   "source": [
    "### Divide dataset to Ahmadinejad, Rouhani and Raisi's presidency"
   ]
  },
  {
   "cell_type": "code",
   "execution_count": 379,
   "metadata": {},
   "outputs": [
    {
     "name": "stdout",
     "output_type": "stream",
     "text": [
      "(482, 7)\n",
      "(2375, 7)\n",
      "(406, 7)\n"
     ]
    }
   ],
   "source": [
    "Ahmadinejad = data.loc[(data['Date'] >= \"2011/11/27\") & (data['Date'] < \"2013/08/03\")].reset_index()\n",
    "Rouhani = data.loc[(data['Date'] >= \"2013/08/03\") & (data['Date'] < \"2021/08/03\")].reset_index()\n",
    "Raisi = data.loc[(data['Date'] >= \"2021/08/03\") & (data['Date'] <= \"2023/05/07\")].reset_index()\n",
    "\n",
    "print(Ahmadinejad.shape)\n",
    "print(Rouhani.shape)\n",
    "print(Raisi.shape)\n"
   ]
  },
  {
   "cell_type": "code",
   "execution_count": 380,
   "metadata": {},
   "outputs": [
    {
     "data": {
      "text/html": [
       "<div>\n",
       "<style scoped>\n",
       "    .dataframe tbody tr th:only-of-type {\n",
       "        vertical-align: middle;\n",
       "    }\n",
       "\n",
       "    .dataframe tbody tr th {\n",
       "        vertical-align: top;\n",
       "    }\n",
       "\n",
       "    .dataframe thead th {\n",
       "        text-align: right;\n",
       "    }\n",
       "</style>\n",
       "<table border=\"1\" class=\"dataframe\">\n",
       "  <thead>\n",
       "    <tr style=\"text-align: right;\">\n",
       "      <th></th>\n",
       "      <th>index</th>\n",
       "      <th>Date</th>\n",
       "      <th>Open</th>\n",
       "      <th>Low</th>\n",
       "      <th>High</th>\n",
       "      <th>Close</th>\n",
       "      <th>YearMonth</th>\n",
       "    </tr>\n",
       "  </thead>\n",
       "  <tbody>\n",
       "    <tr>\n",
       "      <th>0</th>\n",
       "      <td>2857</td>\n",
       "      <td>2021-08-03</td>\n",
       "      <td>255790.0</td>\n",
       "      <td>255690.0</td>\n",
       "      <td>258140.0</td>\n",
       "      <td>257290.0</td>\n",
       "      <td>20210803</td>\n",
       "    </tr>\n",
       "    <tr>\n",
       "      <th>1</th>\n",
       "      <td>2858</td>\n",
       "      <td>2021-08-04</td>\n",
       "      <td>257250.0</td>\n",
       "      <td>254690.0</td>\n",
       "      <td>257340.0</td>\n",
       "      <td>256190.0</td>\n",
       "      <td>20210804</td>\n",
       "    </tr>\n",
       "    <tr>\n",
       "      <th>2</th>\n",
       "      <td>2859</td>\n",
       "      <td>2021-08-05</td>\n",
       "      <td>256490.0</td>\n",
       "      <td>255790.0</td>\n",
       "      <td>256740.0</td>\n",
       "      <td>256190.0</td>\n",
       "      <td>20210805</td>\n",
       "    </tr>\n",
       "    <tr>\n",
       "      <th>3</th>\n",
       "      <td>2860</td>\n",
       "      <td>2021-08-07</td>\n",
       "      <td>254190.0</td>\n",
       "      <td>253990.0</td>\n",
       "      <td>257140.0</td>\n",
       "      <td>256380.0</td>\n",
       "      <td>20210807</td>\n",
       "    </tr>\n",
       "    <tr>\n",
       "      <th>4</th>\n",
       "      <td>2861</td>\n",
       "      <td>2021-08-08</td>\n",
       "      <td>256290.0</td>\n",
       "      <td>252390.0</td>\n",
       "      <td>257440.0</td>\n",
       "      <td>256890.0</td>\n",
       "      <td>20210808</td>\n",
       "    </tr>\n",
       "    <tr>\n",
       "      <th>...</th>\n",
       "      <td>...</td>\n",
       "      <td>...</td>\n",
       "      <td>...</td>\n",
       "      <td>...</td>\n",
       "      <td>...</td>\n",
       "      <td>...</td>\n",
       "      <td>...</td>\n",
       "    </tr>\n",
       "    <tr>\n",
       "      <th>401</th>\n",
       "      <td>3258</td>\n",
       "      <td>2023-05-02</td>\n",
       "      <td>547300.0</td>\n",
       "      <td>540520.0</td>\n",
       "      <td>547600.0</td>\n",
       "      <td>540520.0</td>\n",
       "      <td>20230502</td>\n",
       "    </tr>\n",
       "    <tr>\n",
       "      <th>402</th>\n",
       "      <td>3259</td>\n",
       "      <td>2023-05-03</td>\n",
       "      <td>531040.0</td>\n",
       "      <td>530800.0</td>\n",
       "      <td>539100.0</td>\n",
       "      <td>535240.0</td>\n",
       "      <td>20230503</td>\n",
       "    </tr>\n",
       "    <tr>\n",
       "      <th>403</th>\n",
       "      <td>3260</td>\n",
       "      <td>2023-05-04</td>\n",
       "      <td>539340.0</td>\n",
       "      <td>536110.0</td>\n",
       "      <td>540100.0</td>\n",
       "      <td>536840.0</td>\n",
       "      <td>20230504</td>\n",
       "    </tr>\n",
       "    <tr>\n",
       "      <th>404</th>\n",
       "      <td>3261</td>\n",
       "      <td>2023-05-06</td>\n",
       "      <td>534060.0</td>\n",
       "      <td>527300.0</td>\n",
       "      <td>535100.0</td>\n",
       "      <td>533370.0</td>\n",
       "      <td>20230506</td>\n",
       "    </tr>\n",
       "    <tr>\n",
       "      <th>405</th>\n",
       "      <td>3262</td>\n",
       "      <td>2023-05-07</td>\n",
       "      <td>526080.0</td>\n",
       "      <td>524300.0</td>\n",
       "      <td>529100.0</td>\n",
       "      <td>525430.0</td>\n",
       "      <td>20230507</td>\n",
       "    </tr>\n",
       "  </tbody>\n",
       "</table>\n",
       "<p>406 rows × 7 columns</p>\n",
       "</div>"
      ],
      "text/plain": [
       "     index       Date      Open       Low      High     Close  YearMonth\n",
       "0     2857 2021-08-03  255790.0  255690.0  258140.0  257290.0   20210803\n",
       "1     2858 2021-08-04  257250.0  254690.0  257340.0  256190.0   20210804\n",
       "2     2859 2021-08-05  256490.0  255790.0  256740.0  256190.0   20210805\n",
       "3     2860 2021-08-07  254190.0  253990.0  257140.0  256380.0   20210807\n",
       "4     2861 2021-08-08  256290.0  252390.0  257440.0  256890.0   20210808\n",
       "..     ...        ...       ...       ...       ...       ...        ...\n",
       "401   3258 2023-05-02  547300.0  540520.0  547600.0  540520.0   20230502\n",
       "402   3259 2023-05-03  531040.0  530800.0  539100.0  535240.0   20230503\n",
       "403   3260 2023-05-04  539340.0  536110.0  540100.0  536840.0   20230504\n",
       "404   3261 2023-05-06  534060.0  527300.0  535100.0  533370.0   20230506\n",
       "405   3262 2023-05-07  526080.0  524300.0  529100.0  525430.0   20230507\n",
       "\n",
       "[406 rows x 7 columns]"
      ]
     },
     "execution_count": 380,
     "metadata": {},
     "output_type": "execute_result"
    }
   ],
   "source": [
    "Raisi"
   ]
  },
  {
   "cell_type": "markdown",
   "metadata": {},
   "source": [
    "### Show the highest dollar price in Ahmadinejad, Rouhani and Raisi's presidency respectively"
   ]
  },
  {
   "cell_type": "code",
   "execution_count": 381,
   "metadata": {},
   "outputs": [
    {
     "name": "stdout",
     "output_type": "stream",
     "text": [
      "highest dollar price in Ahmadinejad : 39700.0\n",
      "highest dollar price in Rouhani : 320060.0\n",
      "highest dollar price in Raisi : 555600.0\n"
     ]
    }
   ],
   "source": [
    "max_dollar_price_Ahmadinejad = Ahmadinejad['High'].max()\n",
    "max_dollar_price_Rouhani = Rouhani['High'].max()\n",
    "max_dollar_price_Raisi = Raisi['High'].max()\n",
    "\n",
    "\n",
    "print(f'highest dollar price in Ahmadinejad : {max_dollar_price_Ahmadinejad}')\n",
    "print(f'highest dollar price in Rouhani : {max_dollar_price_Rouhani}')\n",
    "print(f'highest dollar price in Raisi : {max_dollar_price_Raisi}')"
   ]
  },
  {
   "cell_type": "markdown",
   "metadata": {},
   "source": [
    "### Show the lowest dollar price in Ahmadinejad, Rouhani and Raisi's presidency respectively"
   ]
  },
  {
   "cell_type": "code",
   "execution_count": 382,
   "metadata": {},
   "outputs": [
    {
     "name": "stdout",
     "output_type": "stream",
     "text": [
      "lowest dollar price in Ahmadinejad : 13350.0\n",
      "lowest dollar price in Rouhani : 12850.0\n",
      "lowest dollar price in Raisi : 251250.0\n"
     ]
    }
   ],
   "source": [
    "min_dollar_price_Ahmadinejad = Ahmadinejad['Low'].min()\n",
    "min_dollar_price_Rouhani = Rouhani['Low'].min()\n",
    "min_dollar_price_Raisi = Raisi['Low'].min()\n",
    "\n",
    "\n",
    "print(f'lowest dollar price in Ahmadinejad : {min_dollar_price_Ahmadinejad}')\n",
    "print(f'lowest dollar price in Rouhani : {min_dollar_price_Rouhani}')\n",
    "print(f'lowest dollar price in Raisi : {min_dollar_price_Raisi}')"
   ]
  },
  {
   "cell_type": "markdown",
   "metadata": {},
   "source": [
    "###  Split each dataset to train and test with train_test_split function"
   ]
  },
  {
   "cell_type": "code",
   "execution_count": 383,
   "metadata": {},
   "outputs": [],
   "source": [
    "Ahmadinejad.drop(['index'], axis=1, inplace=True)"
   ]
  },
  {
   "cell_type": "code",
   "execution_count": 384,
   "metadata": {},
   "outputs": [
    {
     "data": {
      "text/plain": [
       "<Axes: >"
      ]
     },
     "execution_count": 384,
     "metadata": {},
     "output_type": "execute_result"
    },
    {
     "data": {
      "image/png": "[encoded data removed]",
      "text/plain": [
       "<Figure size 500x400 with 2 Axes>"
      ]
     },
     "metadata": {},
     "output_type": "display_data"
    }
   ],
   "source": [
    "corr = Ahmadinejad.corr()\n",
    "plt.figure(figsize=(5,4))\n",
    "sns.heatmap(corr , annot=True)"
   ]
  },
  {
   "cell_type": "code",
   "execution_count": 385,
   "metadata": {},
   "outputs": [],
   "source": [
    "Rouhani.drop(['index'], axis=1, inplace=True)"
   ]
  },
  {
   "cell_type": "code",
   "execution_count": 386,
   "metadata": {},
   "outputs": [
    {
     "data": {
      "text/plain": [
       "<Axes: >"
      ]
     },
     "execution_count": 386,
     "metadata": {},
     "output_type": "execute_result"
    },
    {
     "data": {
      "image/png": "[encoded data removed]",
      "text/plain": [
       "<Figure size 500x400 with 2 Axes>"
      ]
     },
     "metadata": {},
     "output_type": "display_data"
    }
   ],
   "source": [
    "corr = Rouhani.corr()\n",
    "plt.figure(figsize=(5,4))\n",
    "sns.heatmap(corr,annot=True)"
   ]
  },
  {
   "cell_type": "code",
   "execution_count": 387,
   "metadata": {},
   "outputs": [],
   "source": [
    "Raisi.drop(['index'],axis=1 ,inplace=True)"
   ]
  },
  {
   "cell_type": "code",
   "execution_count": 388,
   "metadata": {},
   "outputs": [
    {
     "data": {
      "text/plain": [
       "<Axes: >"
      ]
     },
     "execution_count": 388,
     "metadata": {},
     "output_type": "execute_result"
    },
    {
     "data": {
      "image/png": "[encoded data removed]",
      "text/plain": [
       "<Figure size 500x400 with 2 Axes>"
      ]
     },
     "metadata": {},
     "output_type": "display_data"
    }
   ],
   "source": [
    "corr = Raisi.corr()\n",
    "plt.figure(figsize=(5,4))\n",
    "sns.heatmap(corr,annot=True)"
   ]
  },
  {
   "cell_type": "code",
   "execution_count": 389,
   "metadata": {},
   "outputs": [
    {
     "name": "stdout",
     "output_type": "stream",
     "text": [
      "(361, 1)\n",
      "(121, 1)\n",
      "(361, 1)\n",
      "(121, 1)\n"
     ]
    }
   ],
   "source": [
    "X = np.array(Ahmadinejad[['YearMonth']])\n",
    "Y = np.array(Ahmadinejad[['High']])\n",
    "\n",
    "X_train , X_test , Y_train ,Y_test = train_test_split(X,Y ,shuffle=True)\n",
    "\n",
    "print(X_train.shape)\n",
    "print(X_test.shape)\n",
    "print(Y_train.shape)\n",
    "print(Y_test.shape)"
   ]
  },
  {
   "cell_type": "markdown",
   "metadata": {},
   "source": [
    "### Fit the LLS model on each training dataset"
   ]
  },
  {
   "cell_type": "code",
   "execution_count": 390,
   "metadata": {},
   "outputs": [],
   "source": [
    "lls = LinearLeastSquare()\n",
    "lls.fit(X_train ,Y_train)\n",
    "Y_pred_Ahmadinejad = lls.predict(X_test)"
   ]
  },
  {
   "cell_type": "code",
   "execution_count": 391,
   "metadata": {},
   "outputs": [
    {
     "name": "stdout",
     "output_type": "stream",
     "text": [
      "Mean Absolute Error Custom LLs for Ahmadinejad: 7282.077651398324\n"
     ]
    }
   ],
   "source": [
    "MAE_Ahmadinejad = lls.evaluate(X_test ,Y_test ,'mae')\n",
    "print('Mean Absolute Error Custom LLs for Ahmadinejad:',MAE_Ahmadinejad)\n",
    "\n"
   ]
  },
  {
   "cell_type": "markdown",
   "metadata": {},
   "source": [
    "### Scikit-Learn's Linear Regression "
   ]
  },
  {
   "cell_type": "code",
   "execution_count": 392,
   "metadata": {},
   "outputs": [],
   "source": [
    "reg = LinearLeastSquare()\n",
    "reg.fit(X_train,Y_train)\n",
    "Y_pred = reg.predict(X_test)"
   ]
  },
  {
   "cell_type": "code",
   "execution_count": 393,
   "metadata": {},
   "outputs": [
    {
     "name": "stdout",
     "output_type": "stream",
     "text": [
      "Mean Absolute Error Linear Regression for Ahmadinejad: 7282.077651398324\n"
     ]
    }
   ],
   "source": [
    "print('Mean Absolute Error Linear Regression for Ahmadinejad:', mean_absolute_error(Y_test,Y_pred_Ahmadinejad))"
   ]
  },
  {
   "cell_type": "code",
   "execution_count": 394,
   "metadata": {},
   "outputs": [
    {
     "name": "stdout",
     "output_type": "stream",
     "text": [
      "Mean Absolute Error Custom LLs for Rouhani: 61065.5329852261\n",
      "Mean Absolute Error Linear Regression for Rouhani : 61065.5329852261\n"
     ]
    }
   ],
   "source": [
    "X1 = np.array(Rouhani[['YearMonth']])\n",
    "Y1 = np.array(Rouhani[['High']])\n",
    "\n",
    "X_train , X_test , Y_train ,Y_test = train_test_split(X1,Y1 ,shuffle=True)\n",
    "\n",
    "lls = LinearLeastSquare()\n",
    "lls.fit(X_train ,Y_train)\n",
    "Y_pred_Rouhani = lls.predict(X_test)\n",
    "\n",
    "MAE_Rouhani = lls.evaluate(X_test ,Y_test ,'mae')\n",
    "print('Mean Absolute Error Custom LLs for Rouhani:',MAE_Rouhani)\n",
    "print('Mean Absolute Error Linear Regression for Rouhani :', mean_absolute_error(Y_test,Y_pred_Rouhani))"
   ]
  },
  {
   "cell_type": "code",
   "execution_count": 395,
   "metadata": {},
   "outputs": [
    {
     "name": "stdout",
     "output_type": "stream",
     "text": [
      "Mean Absolute Error Custom LLs for Raisi: 69951.43140136248\n",
      "Mean Absolute Error Linear Regression for Raisi : 69951.43140136248\n"
     ]
    }
   ],
   "source": [
    "\n",
    "X2 = np.array(Raisi[['YearMonth']])\n",
    "Y2 = np.array(Raisi[['High']])\n",
    "\n",
    "X_train , X_test , Y_train ,Y_test = train_test_split(X2,Y2 ,shuffle=True)\n",
    "\n",
    "lls = LinearLeastSquare()\n",
    "lls.fit(X_train ,Y_train)\n",
    "Y_pred_Raisi = lls.predict(X_test)\n",
    "\n",
    "MAE_Raisi = lls.evaluate(X_test ,Y_test ,'mae')\n",
    "print('Mean Absolute Error Custom LLs for Raisi:',MAE_Raisi)\n",
    "print('Mean Absolute Error Linear Regression for Raisi :', mean_absolute_error(Y_test,Y_pred_Raisi))"
   ]
  }
 ],
 "metadata": {
  "kernelspec": {
   "display_name": "Python 3",
   "language": "python",
   "name": "python3"
  },
  "language_info": {
   "codemirror_mode": {
    "name": "ipython",
    "version": 3
   },
   "file_extension": ".py",
   "mimetype": "text/x-python",
   "name": "python",
   "nbconvert_exporter": "python",
   "pygments_lexer": "ipython3",
   "version": "3.11.4"
  },
  "orig_nbformat": 4
 },
 "nbformat": 4,
 "nbformat_minor": 2
}
